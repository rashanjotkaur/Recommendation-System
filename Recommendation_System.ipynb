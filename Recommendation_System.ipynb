{
  "nbformat": 4,
  "nbformat_minor": 0,
  "metadata": {
    "colab": {
      "provenance": [],
      "authorship_tag": "ABX9TyNr+i2ShE2vDM8/pDggNP46",
      "include_colab_link": true
    },
    "kernelspec": {
      "name": "python3",
      "display_name": "Python 3"
    },
    "language_info": {
      "name": "python"
    }
  },
  "cells": [
    {
      "cell_type": "markdown",
      "metadata": {
        "id": "view-in-github",
        "colab_type": "text"
      },
      "source": [
        "<a href=\"https://colab.research.google.com/github/rashanjotkaur/Recommendation-System/blob/main/Recommendation_System.ipynb\" target=\"_parent\"><img src=\"https://colab.research.google.com/assets/colab-badge.svg\" alt=\"Open In Colab\"/></a>"
      ]
    },
    {
      "cell_type": "code",
      "execution_count": null,
      "metadata": {
        "id": "70FbYG2PrHHk"
      },
      "outputs": [],
      "source": [
        "import pandas as pd\n",
        "from sklearn.feature_extraction.text import TfidfVectorizer\n",
        "from sklearn.metrics.pairwise import cosine_similarity"
      ]
    },
    {
      "cell_type": "code",
      "source": [
        "# Sample dataset of products\n",
        "products_data = {\n",
        "    'product_id': [1, 2, 3, 4, 5,6],\n",
        "    'name': ['Wireless Headphones', 'Wireless Headphones 1','Bluetooth Speaker', 'Wired Headphones', 'Noise Cancelling Headphones', 'Portable Charger'],\n",
        "    'description': ['Wireless sound system', 'Wireless sound system 1', 'High-quality bluetooth speaker', 'Durable wired headphones', 'Noise cancelling with Bluetooth', 'Compact and powerful charger'],\n",
        "    'price': [220, 120, 180, 300, 700, 1000],\n",
        "    'review_score': [4.5, 4.5, 4.8, 4.2, 4.9, 4.7]`\n",
        "}\n",
        "\n",
        "# Convert to DataFrame\n",
        "products_df = pd.DataFrame(products_data)\n",
        "print(products_df)\n",
        "\n",
        "# Sample user profile\n",
        "user_profile = {\n",
        "    'user_id': 1,\n",
        "    'name': 'Rashan',\n",
        "    'spending_range': (100, 550)  # User generally spends between $100 and $550\n",
        "}"
      ],
      "metadata": {
        "id": "RuBiEuI1rghw"
      },
      "execution_count": null,
      "outputs": []
    },
    {
      "cell_type": "code",
      "source": [
        "# Function to recommend products with refined similarity calculation\n",
        "def recommend_products(keyword, user_profile, products_df):\n",
        "    # Combine 'name' and 'description' for better keyword matching\n",
        "    products_df['combined_features'] = products_df['name'] + \" \" + products_df['description']\n",
        "\n",
        "    # TF-IDF vectorization\n",
        "    tfidf = TfidfVectorizer(stop_words='english', ngram_range=(1, 2))  # Using n-grams for better context capture\n",
        "    tfidf_matrix = tfidf.fit_transform(products_df['combined_features'])\n",
        "\n",
        "    # Compute cosine similarity between the search keyword and product descriptions\n",
        "    query_vec = tfidf.transform([keyword])\n",
        "    similarity_scores = cosine_similarity(query_vec, tfidf_matrix).flatten()\n",
        "\n",
        "    # Add similarity scores to the dataframe\n",
        "    products_df['similarity_score'] = similarity_scores\n",
        "\n",
        "    # Remove products with similarity score of 0\n",
        "    products_df = products_df[products_df['similarity_score'] > 0].copy()\n",
        "\n",
        "    # Split products into within-range and out-of-range based on user's spending range\n",
        "    min_price, max_price = user_profile['spending_range']\n",
        "    products_df.loc[:, 'within_range'] = products_df['price'].between(min_price, max_price)\n",
        "\n",
        "    # Sort products: first by similarity_score, then by review_score, and prioritize within-range products\n",
        "    products_sorted = products_df.sort_values(by=['similarity_score', 'review_score', 'within_range','price'],\n",
        "                                              ascending=[False, False, False, True])\n",
        "\n",
        "    return products_sorted[['name', 'price', 'review_score', 'within_range', 'similarity_score']]\n"
      ],
      "metadata": {
        "id": "QeASDwjJrkw2"
      },
      "execution_count": null,
      "outputs": []
    },
    {
      "cell_type": "code",
      "source": [
        "# Example keyword search by user\n",
        "keyword_search = \"headphones\"\n",
        "\n",
        "# Get recommendations\n",
        "recommendations = recommend_products(keyword_search, user_profile, products_df)\n",
        "\n",
        "# Print recommendations\n",
        "print(recommendations)"
      ],
      "metadata": {
        "id": "zM_5pQTArrQP"
      },
      "execution_count": null,
      "outputs": []
    },
    {
      "cell_type": "markdown",
      "source": [
        "The below will work by combining similarity score, content based filtering, and collaborative filtering."
      ],
      "metadata": {
        "id": "RdJ1zJRCrtMi"
      }
    },
    {
      "cell_type": "code",
      "source": [
        "import pandas as pd\n",
        "from sklearn.feature_extraction.text import TfidfVectorizer\n",
        "from sklearn.metrics.pairwise import cosine_similarity\n",
        "\n",
        "# Sample dataset of products\n",
        "products_data = {\n",
        "    'product_id': [1, 2, 3, 4, 5],\n",
        "    'name': ['Wireless Headphones', 'Bluetooth Speaker', 'Wired Headphones', 'Noise Cancelling Headphones', 'Portable Charger'],\n",
        "    'description': ['Wireless sound system', 'High-quality bluetooth speaker', 'Durable wired headphones', 'Noise cancelling with Bluetooth', 'Compact and powerful charger'],\n",
        "    'price': [120, 180, 300, 700, 1000],\n",
        "    'review_score': [4.5, 4.8, 4.2, 4.9, 4.7]\n",
        "}\n",
        "\n",
        "# Convert to DataFrame\n",
        "products_df = pd.DataFrame(products_data)\n",
        "\n",
        "# Sample user profile\n",
        "user_profile = {\n",
        "    'user_id': 101,\n",
        "    'name': 'Rashan',\n",
        "    'spending_range': (100, 550),  # User generally spends between $100 and $550\n",
        "    'liked_product_ids': [1, 3]  # Products that the user has liked or interacted with\n",
        "}\n",
        "\n",
        "users = {\n",
        "    'user_id': [101,102,103]\n",
        "    'name': ['R','A','B','R']\n",
        "    'liked_product_ids': [1, 1, 4, 5]  # Products that the user has liked or interacted with\n",
        "}\n",
        "\n",
        "\n",
        "# Function to compute TF-IDF similarity for product descriptions\n",
        "def compute_tfidf_similarity(keyword, products_df):\n",
        "    # Combine 'name' and 'description' for better keyword matching\n",
        "    products_df['combined_features'] = products_df['name'] + \" \" + products_df['description']\n",
        "\n",
        "    # TF-IDF vectorization\n",
        "    tfidf = TfidfVectorizer(stop_words='english', ngram_range=(1, 2))\n",
        "    tfidf_matrix = tfidf.fit_transform(products_df['combined_features'])\n",
        "\n",
        "    # Compute cosine similarity between the search keyword and product descriptions\n",
        "    query_vec = tfidf.transform([keyword])\n",
        "    similarity_scores = cosine_similarity(query_vec, tfidf_matrix).flatten()\n",
        "\n",
        "    # Add similarity scores to the dataframe\n",
        "    products_df['similarity_score'] = similarity_scores\n",
        "    return products_df\n",
        "\n",
        "# Function to compute content-based similarity using user preferences\n",
        "def content_based_filtering(user_profile, products_df):\n",
        "    # Get products liked by the user\n",
        "    liked_products = products_df[products_df['product_id'].isin(user_profile['liked_product_ids'])]\n",
        "    return products_df\n",
        "\n",
        "def collaborative_based_filtering(user_profile, products_df):\n",
        "    # Get products liked by the user\n",
        "    liked_products = products_df[products_df['product_id'].isin(user_profile['liked_product_ids'])]\n",
        "    return products_df\n",
        "\n",
        "\n",
        "# Function to recommend products\n",
        "def recommend_products(keyword, user_profile, products_df):\n",
        "    # Compute TF-IDF similarity for the search keyword\n",
        "    products_df = compute_tfidf_similarity(keyword, products_df)\n",
        "\n",
        "    # Compute content-based similarity based on user preferences\n",
        "    products_df = content_based_filtering(user_profile, products_df)\n",
        "\n",
        "    # Filter out products with zero similarity score\n",
        "    products_df = products_df[products_df['similarity_score'] > 0].copy()\n",
        "\n",
        "    # Prioritize products within the user's spending range\n",
        "    min_price, max_price = user_profile['spending_range']\n",
        "    products_df['within_range'] = products_df['price'].between(min_price, max_price)\n",
        "\n",
        "    # Combine similarity scores (weighted sum of TF-IDF and content-based similarity)\n",
        "    products_df['combined_score'] = 0.6 * products_df['similarity_score'] + 0.4 * products_df['content_similarity']\n",
        "\n",
        "    # Sort products by the combined score, review score, and prioritize within-range products\n",
        "    products_sorted = products_df.sort_values(by=['combined_score', 'review_score', 'within_range'],\n",
        "                                              ascending=[False, False, False])\n",
        "\n",
        "    return products_sorted[['name', 'price', 'review_score', 'within_range', 'similarity_score', 'content_similarity', 'combined_score']]\n",
        "\n",
        "# Example keyword search by user\n",
        "keyword_search = \"headphones\"\n",
        "\n",
        "# Get recommendations\n",
        "recommendations = recommend_products(keyword_search, user_profile, products_df)\n",
        "\n",
        "# Print recommendations\n",
        "print(recommendations)\n"
      ],
      "metadata": {
        "id": "lhZGu1RdsAqE"
      },
      "execution_count": null,
      "outputs": []
    }
  ]
}